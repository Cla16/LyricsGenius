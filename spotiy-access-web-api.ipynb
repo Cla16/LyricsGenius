{
 "cells": [
  {
   "cell_type": "markdown",
   "metadata": {},
   "source": [
    "### Access the Spotify API ###"
   ]
  },
  {
   "cell_type": "code",
   "execution_count": 1,
   "metadata": {
    "collapsed": true
   },
   "outputs": [],
   "source": [
    "from rauth import OAuth1Service\n",
    "from rauth import OAuth2Service\n",
    "import json"
   ]
  },
  {
   "cell_type": "code",
   "execution_count": 2,
   "metadata": {
    "collapsed": true
   },
   "outputs": [],
   "source": [
    "def load_credentials():    \n",
    "    lines = [line.rstrip('\\n') for line in open('secrets_spotify.ini')]        \n",
    "    for line in lines:\n",
    "        if \"client_id\" in line:\n",
    "            client_id = line.split(': ')[1]\n",
    "        if \"client_secret\" in line:\n",
    "            client_secret = line.split(': ')[1]        \n",
    "        if \"redirect_uri\" in line:\n",
    "            redirect_uri = line.split(': ')[1]\n",
    "\n",
    "    return client_id, client_secret, redirect_uri"
   ]
  },
  {
   "cell_type": "code",
   "execution_count": 3,
   "metadata": {},
   "outputs": [],
   "source": [
    "# Spotify\n",
    "client_id, client_secret, redirect_uri = load_credentials()"
   ]
  },
  {
   "cell_type": "code",
   "execution_count": 4,
   "metadata": {},
   "outputs": [],
   "source": [
    "# https://developer.spotify.com/web-api/authorization-guide/#authorization-code-flow\n",
    "spotify = OAuth2Service(\n",
    "    name='spotify',\n",
    "    client_id=client_id,\n",
    "    client_secret=client_secret,    \n",
    "    access_token_url='https://accounts.spotify.com/api/token',\n",
    "    authorize_url='https://accounts.spotify.com/authorize',\n",
    "    base_url='https://api.spotify.com/v1/'\n",
    "    )"
   ]
  },
  {
   "cell_type": "code",
   "execution_count": 5,
   "metadata": {},
   "outputs": [],
   "source": [
    "params = {'redirect_uri': redirect_uri, 'response_type': 'code'}\n",
    "url = spotify.get_authorize_url(**params) # Visit this URL and allow this python app to access your Spotify account"
   ]
  },
  {
   "cell_type": "code",
   "execution_count": 11,
   "metadata": {
    "collapsed": true
   },
   "outputs": [],
   "source": [
    "# This code comes from URL returned after following the authorize URL from above\n",
    "response_code = ''"
   ]
  },
  {
   "cell_type": "code",
   "execution_count": 8,
   "metadata": {},
   "outputs": [],
   "source": [
    "data = {'code':response_code, 'grant_type': 'authorization_code', 'redirect_uri': redirect_uri}\n",
    "\n",
    "# I was getting an error about needing a different decoder, adding decoder=json.loads fixed it\n",
    "session = spotify.get_auth_session(data=data,decoder=json.loads)"
   ]
  },
  {
   "cell_type": "code",
   "execution_count": 9,
   "metadata": {},
   "outputs": [
    {
     "data": {
      "text/plain": [
       "{u'display_name': None,\n",
       " u'external_urls': {u'spotify': u'https://open.spotify.com/user/johnwmillr'},\n",
       " u'followers': {u'href': None, u'total': 0},\n",
       " u'href': u'https://api.spotify.com/v1/users/johnwmillr',\n",
       " u'id': u'johnwmillr',\n",
       " u'images': [],\n",
       " u'type': u'user',\n",
       " u'uri': u'spotify:user:johnwmillr'}"
      ]
     },
     "execution_count": 9,
     "metadata": {},
     "output_type": "execute_result"
    }
   ],
   "source": [
    "session.get('me').json()"
   ]
  },
  {
   "cell_type": "code",
   "execution_count": 10,
   "metadata": {},
   "outputs": [
    {
     "data": {
      "text/plain": [
       "[(u'The Magician', 51),\n",
       " (u'Quite Like You', 51),\n",
       " (u'Early to the Party', 48),\n",
       " (u'To You', 48),\n",
       " (u\"You're Out Wasting\", 47),\n",
       " (u'The Worst in You', 43),\n",
       " (u'Twist Your Ankle', 42),\n",
       " (u'Begin Again', 41),\n",
       " (u'Lick Your Wounds', 41),\n",
       " (u'Alexander All Alone', 40)]"
      ]
     },
     "execution_count": 10,
     "metadata": {},
     "output_type": "execute_result"
    }
   ],
   "source": [
    "# Get an Artist\n",
    "artist_id = '5mFKYdmiYwNJTDtSzgFyQx'\n",
    "r = session.get('artists/{id}/top-tracks?country=US'.format(id=artist_id))\n",
    "json_obj = r.json()\n",
    "[(track['name'], track['popularity']) for track in json_obj['tracks']]"
   ]
  },
  {
   "cell_type": "code",
   "execution_count": null,
   "metadata": {
    "collapsed": true
   },
   "outputs": [],
   "source": [
    "\n",
    "\n",
    "\n",
    "\n",
    "\n",
    "\n",
    "\n",
    "\n",
    "\n",
    "\n",
    "\n",
    "\n",
    "\n",
    "\n",
    "\n",
    "\n",
    "\n",
    "\n",
    "\n",
    "\n",
    "\n",
    "\n",
    "\n",
    "\n",
    "\n",
    "\n",
    "\n",
    "\n",
    "\n",
    "\n",
    "\n",
    "\n",
    "\n",
    "\n",
    "\n",
    "\n",
    "\n",
    "\n",
    "\n",
    "\n",
    "\n",
    "\n",
    "\n",
    "\n",
    "\n",
    "\n",
    "\n",
    "\n",
    "\n",
    "\n",
    "\n",
    "\n",
    "\n",
    "\n",
    "\n",
    "\n",
    "\n",
    "\n",
    "\n",
    "\n",
    "\n",
    "\n",
    "\n",
    "\n",
    "\n",
    "\n",
    "\n",
    "\n"
   ]
  }
 ],
 "metadata": {
  "kernelspec": {
   "display_name": "Python 2",
   "language": "python",
   "name": "python2"
  },
  "language_info": {
   "codemirror_mode": {
    "name": "ipython",
    "version": 2
   },
   "file_extension": ".py",
   "mimetype": "text/x-python",
   "name": "python",
   "nbconvert_exporter": "python",
   "pygments_lexer": "ipython2",
   "version": "2.7.13"
  }
 },
 "nbformat": 4,
 "nbformat_minor": 2
}
